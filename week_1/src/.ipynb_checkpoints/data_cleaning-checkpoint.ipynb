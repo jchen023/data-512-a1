{
 "cells": [
  {
   "cell_type": "markdown",
   "id": "0213d776",
   "metadata": {},
   "source": [
    "## A1: Data Curation Assignment\n",
    "### Jack Chen\n",
    "\n",
    "#### Step 1: Data Acquisition"
   ]
  },
  {
   "cell_type": "code",
   "execution_count": 3,
   "id": "6e373f26",
   "metadata": {},
   "outputs": [],
   "source": [
    "import json\n",
    "import requests\n",
    "import pandas as pd"
   ]
  },
  {
   "cell_type": "code",
   "execution_count": 4,
   "id": "61e6fd7f",
   "metadata": {},
   "outputs": [],
   "source": [
    "endpoint_legacy = 'https://wikimedia.org/api/rest_v1/metrics/legacy/pagecounts/aggregate/{project}/{access-site}/{granularity}/{start}/{end}'\n",
    "endpoint_pageviews = 'https://wikimedia.org/api/rest_v1/metrics/pageviews/aggregate/{project}/{access}/{agent}/{granularity}/{start}/{end}'\n",
    "\n",
    "legacy_start = '200712'\n",
    "legacy_end = '201607'\n",
    "\n",
    "pageviews_start = '201507'\n",
    "pageviews_end = '202108'\n"
   ]
  },
  {
   "cell_type": "code",
   "execution_count": 5,
   "id": "a48b7950",
   "metadata": {},
   "outputs": [],
   "source": [
    "# Legacy Pagecount API parameters for desktop and mobile\n",
    "params_legacy_desktop = {\"project\" : \"en.wikipedia.org\",\n",
    "                 \"access-site\" : \"desktop-site\",\n",
    "                 \"granularity\" : \"monthly\",\n",
    "                 \"start\" : \"2007120100\",\n",
    "                # for end use 1st day of month following final month of data\n",
    "                 \"end\" : \"2016080100\"\n",
    "                    }\n",
    "\n",
    "params_legacy_mobile = {\"project\" : \"en.wikipedia.org\",\n",
    "                 \"access-site\" : \"mobile-site\",\n",
    "                 \"granularity\" : \"monthly\",\n",
    "                 \"start\" : \"2007120100\",\n",
    "                # for end use 1st day of month following final month of data\n",
    "                 \"end\" : \"2016080100\"\n",
    "                    }"
   ]
  },
  {
   "cell_type": "code",
   "execution_count": 6,
   "id": "58d8eb91",
   "metadata": {},
   "outputs": [],
   "source": [
    "# Pageviews API parameters for desktop, mobile web and app\n",
    "params_pageviews_desktop = {\"project\" : \"en.wikipedia.org\",\n",
    "                    \"access\" : \"desktop\",\n",
    "                    \"agent\" : \"user\",\n",
    "                    \"granularity\" : \"monthly\",\n",
    "                    \"start\" : \"2015070100\",\n",
    "                    # for end use 1st day of month following final month of data\n",
    "                    \"end\" : '2021090100'\n",
    "                        }\n",
    "\n",
    "params_pageviews_mobile_web = {\"project\" : \"en.wikipedia.org\",\n",
    "                    \"access\" : \"mobile-web\",\n",
    "                    \"agent\" : \"user\",\n",
    "                    \"granularity\" : \"monthly\",\n",
    "                    \"start\" : \"2015070100\",\n",
    "                    # for end use 1st day of month following final month of data\n",
    "                    \"end\" : '2021090100'\n",
    "                        }\n",
    "\n",
    "params_pageviews_mobile_app = {\"project\" : \"en.wikipedia.org\",\n",
    "                    \"access\" : \"mobile-app\",\n",
    "                    \"agent\" : \"user\",\n",
    "                    \"granularity\" : \"monthly\",\n",
    "                    \"start\" : \"2015070100\",\n",
    "                    # for end use 1st day of month following final month of data\n",
    "                    \"end\" : '2021090100'\n",
    "                        }"
   ]
  },
  {
   "cell_type": "code",
   "execution_count": 7,
   "id": "fa5fd43e",
   "metadata": {},
   "outputs": [],
   "source": [
    "# Customize these with your own information\n",
    "headers = {\n",
    "    'User-Agent': 'https://github.com/jchen023',\n",
    "    'From': 'jchen023@uw.edu'\n",
    "}"
   ]
  },
  {
   "cell_type": "code",
   "execution_count": 8,
   "id": "0c449eed",
   "metadata": {},
   "outputs": [],
   "source": [
    "def api_call(endpoint, parameters):\n",
    "    call = requests.get(endpoint.format(**parameters), headers=headers)\n",
    "    response = call.json()\n",
    "    return response"
   ]
  },
  {
   "cell_type": "code",
   "execution_count": 9,
   "id": "a44dde05",
   "metadata": {},
   "outputs": [],
   "source": [
    "legacy_desktop = api_call(endpoint_legacy, params_legacy_desktop)\n",
    "legacy_mobile = api_call(endpoint_legacy, params_legacy_mobile)"
   ]
  },
  {
   "cell_type": "code",
   "execution_count": 10,
   "id": "2a8c3da3",
   "metadata": {},
   "outputs": [],
   "source": [
    "pageview_desktop = api_call(endpoint_pageviews, params_pageviews_desktop)\n",
    "pageview_mobile_web = api_call(endpoint_pageviews, params_pageviews_mobile_web)\n",
    "pageview_mobile_app = api_call(endpoint_pageviews, params_pageviews_mobile_app)"
   ]
  },
  {
   "cell_type": "code",
   "execution_count": 14,
   "id": "1d982284",
   "metadata": {},
   "outputs": [],
   "source": [
    "with open('../data_raw/legacy-pagecount_desktop-site_200712-201607.json', 'w') as output:\n",
    "    json.dump(legacy_desktop, output)\n",
    "\n",
    "with open('../data_raw/legacy-pagecount_mobile-site_200712-201607.json', 'w') as output:\n",
    "    json.dump(legacy_mobile, output)"
   ]
  },
  {
   "cell_type": "code",
   "execution_count": 15,
   "id": "e9e6e491",
   "metadata": {},
   "outputs": [
    {
     "data": {
      "text/plain": [
       "dict"
      ]
     },
     "execution_count": 15,
     "metadata": {},
     "output_type": "execute_result"
    }
   ],
   "source": [
    "type(legacy_desktop)"
   ]
  },
  {
   "cell_type": "code",
   "execution_count": null,
   "id": "612e4bfe",
   "metadata": {},
   "outputs": [],
   "source": []
  }
 ],
 "metadata": {
  "kernelspec": {
   "display_name": "Python 3 (ipykernel)",
   "language": "python",
   "name": "python3"
  },
  "language_info": {
   "codemirror_mode": {
    "name": "ipython",
    "version": 3
   },
   "file_extension": ".py",
   "mimetype": "text/x-python",
   "name": "python",
   "nbconvert_exporter": "python",
   "pygments_lexer": "ipython3",
   "version": "3.8.11"
  }
 },
 "nbformat": 4,
 "nbformat_minor": 5
}
